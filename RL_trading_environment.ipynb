{
 "cells": [
  {
   "cell_type": "markdown",
   "metadata": {},
   "source": [
    "### Dataprep"
   ]
  },
  {
   "cell_type": "code",
   "execution_count": 18,
   "metadata": {},
   "outputs": [],
   "source": [
    "# Libraries\n",
    "import jax\n",
    "import jax.numpy as jnp\n",
    "import gymnax\n",
    "from gymnax.environments import environment, spaces\n",
    "import matplotlib.pyplot as plt"
   ]
  },
  {
   "cell_type": "code",
   "execution_count": 18,
   "metadata": {},
   "outputs": [
    {
     "data": {
      "text/plain": [
       "Text(0.5, 1.0, 'Constant stock price')"
      ]
     },
     "execution_count": 18,
     "metadata": {},
     "output_type": "execute_result"
    },
    {
     "data": {
      "image/png": "[encoded data removed]",
      "text/plain": [
       "<Figure size 600x300 with 1 Axes>"
      ]
     },
     "metadata": {},
     "output_type": "display_data"
    }
   ],
   "source": [
    "# constant price\n",
    "data = jnp.array([jnp.arange(500), jnp.repeat(100,500)])\n",
    "plt.figure(figsize=(6,3))\n",
    "plt.plot(data[0],data[1])\n",
    "plt.xlabel(\"Days\")\n",
    "plt.ylabel(\"Price\")\n",
    "plt.title(\"Constant stock price\")"
   ]
  },
  {
   "cell_type": "code",
   "execution_count": 70,
   "metadata": {},
   "outputs": [],
   "source": [
    "class TradingSimulator:\n",
    "    \n",
    "    def __init__(self, trading_days, training):\n",
    "        \n",
    "        self.trading_days = jnp.int32(trading_days)\n",
    "        self.counter = jnp.int32(0)\n",
    "        self.done = jnp.bool(False)\n",
    "        self.stock_price = jnp.array([100.,100.,100.,100.,100.])\n",
    "        \n",
    "        self.training = jnp.bool(training)\n",
    "        self.states = self.stock_price\n",
    "        self.actions = jnp.array([0, 0, 0, 0, 0], dtype=jnp.int32)\n",
    "        self.rewards = jnp.array([0.,0.,0.,0.,0.])\n",
    "        \n",
    "        self.reward = jnp.float32\n",
    "        self.curr_action = jnp.int32\n",
    "        self.curr_state = jnp.float32\n",
    "    \n",
    "    def take_step(self, action):\n",
    "        # curr_state will be used in a later stage.\n",
    "        self.curr_action = action\n",
    "        ## REWARD\n",
    "        if self.curr_action != self.actions[-1]:\n",
    "            self.reward = 0.05\n",
    "        else: \n",
    "            self.reward = -0.05\n",
    "        # Add reward\n",
    "        self.rewards = jnp.concatenate([self.rewards, jnp.array([self.reward])])\n",
    "        ## REWARD\n",
    "        ## Change in stock price\n",
    "        if self.curr_action == 1:       \n",
    "            self.states = jnp.concatenate([self.states, jnp.array([self.states[-1] + 5.])])\n",
    "        else:\n",
    "            self.states = jnp.concatenate([self.states, jnp.array([self.states[-1] - 5.])])\n",
    "        ## Add action\n",
    "        self.actions = jnp.concatenate([self.actions, jnp.array([self.curr_action])])\n",
    "\n",
    "        self.counter += 1\n",
    "\n",
    "        info = {'reward': self.reward}\n",
    "        return self.reward, info\n",
    "    \n",
    "    def status(self):\n",
    "        if self.counter == self.trading_days:\n",
    "            self.done = True\n",
    "        return self.states[-5:], self.done\n",
    "    \n",
    "    def reset(self, training):\n",
    "        self.training = training\n",
    "        self.counter = 0\n",
    "        self.done = False\n",
    "        self.states = self.stock_price\n",
    "        self.actions = jnp.array([0, 0, 0, 0, 0], dtype=jnp.int32)\n",
    "        self.rewards = jnp.array([0.,0.,0.,0.,0.])\n",
    "\n",
    "    def result(self):\n",
    "        result = {}\n",
    "        result['states'] = self.states\n",
    "        result['actions'] = self.actions\n",
    "        result['rewards'] = self.rewards\n",
    "        return result"
   ]
  },
  {
   "cell_type": "code",
   "execution_count": 71,
   "metadata": {},
   "outputs": [],
   "source": [
    "class TradingEnvironment(environment.Environment):\n",
    "    \n",
    "    def __init__(self, trading_days, training):\n",
    "        \n",
    "        self.trading_days = jnp.int32(trading_days)\n",
    "        self.training = jnp.bool(training)\n",
    "        # Trading Simulator\n",
    "        self.simulator = TradingSimulator(trading_days=self.trading_days, training=self.training)\n",
    "        # Action Space (0,1)\n",
    "        self.action_space = spaces.Discrete(2)\n",
    "        # Feature Space\n",
    "        self.num_features = 5\n",
    "        # Observation Space\n",
    "        self.observation_space = spaces.Box(low=-jnp.inf, high=jnp.inf, shape=(self.num_features,), dtype=jnp.float32)\n",
    "    \n",
    "    def step(self, action):\n",
    "       assert action in [0, 1], '{} {} invalid'.format(action, type(action))\n",
    "       reward, info = self.simulator.take_step(action)\n",
    "       observation, done = self.simulator.status()\n",
    "       return observation, reward, done, info\n",
    "    \n",
    "    def reset(self, rng_key, training):\n",
    "        #rng_key, subkey = jax.random.split(rng_key)\n",
    "        self.simulator.reset(training=self.training)\n",
    "        observation, done = self.simulator.status()\n",
    "        return observation, done\n",
    "    \n",
    "    def action_space(self):\n",
    "        return self.action_space\n",
    "\n",
    "    def observation_space(self):\n",
    "        return self.observation_space\n",
    "\n",
    "    def get_state(self):\n",
    "        # Placeholder for returning the current environment state\n",
    "        pass\n",
    "        "
   ]
  },
  {
   "cell_type": "code",
   "execution_count": 43,
   "metadata": {},
   "outputs": [
    {
     "name": "stdout",
     "output_type": "stream",
     "text": [
      "[1. 2. 3. 4. 5.]\n"
     ]
    }
   ],
   "source": [
    "a = jnp.array([1,2,3,4.])\n",
    "\n",
    "a = jnp.concatenate([a,jnp.array([a[-1] + 1])])\n",
    "print(a)"
   ]
  },
  {
   "cell_type": "code",
   "execution_count": 72,
   "metadata": {},
   "outputs": [
    {
     "name": "stdout",
     "output_type": "stream",
     "text": [
      "[100. 100. 100. 100. 100.]\n",
      "\n",
      "[100. 100. 100. 100.  95.]\n",
      "-0.05\n",
      "False\n",
      "{'reward': -0.05}\n",
      "[ 0.    0.    0.    0.    0.   -0.05]\n",
      "\n",
      "[100. 100. 100.  95.  90.]\n",
      "-0.05\n",
      "False\n",
      "{'reward': -0.05}\n",
      "[ 0.    0.    0.    0.    0.   -0.05 -0.05]\n",
      "\n",
      "[100. 100.  95.  90.  95.]\n",
      "0.05\n",
      "False\n",
      "{'reward': 0.05}\n",
      "[ 0.    0.    0.    0.    0.   -0.05 -0.05  0.05]\n"
     ]
    }
   ],
   "source": [
    "abc = TradingEnvironment(trading_days=252, training=False)\n",
    "print(abc.simulator.status()[0])\n",
    "print(\"\")\n",
    "observation, reward, done, info = abc.step(action=0)\n",
    "print(observation)\n",
    "print(reward)\n",
    "print(done)\n",
    "print(info)\n",
    "print(abc.simulator.rewards)\n",
    "print(\"\")\n",
    "observation, reward, done, info = abc.step(action=0)\n",
    "print(observation)\n",
    "print(reward)\n",
    "print(done)\n",
    "print(info)\n",
    "print(abc.simulator.rewards)\n",
    "print(\"\")\n",
    "observation, reward, done, info = abc.step(action=1)\n",
    "print(observation)\n",
    "print(reward)\n",
    "print(done)\n",
    "print(info)\n",
    "print(abc.simulator.rewards)\n",
    "\n"
   ]
  },
  {
   "cell_type": "code",
   "execution_count": null,
   "metadata": {},
   "outputs": [],
   "source": []
  }
 ],
 "metadata": {
  "kernelspec": {
   "display_name": "Python 3",
   "language": "python",
   "name": "python3"
  },
  "language_info": {
   "codemirror_mode": {
    "name": "ipython",
    "version": 3
   },
   "file_extension": ".py",
   "mimetype": "text/x-python",
   "name": "python",
   "nbconvert_exporter": "python",
   "pygments_lexer": "ipython3",
   "version": "3.9.6"
  }
 },
 "nbformat": 4,
 "nbformat_minor": 2
}
