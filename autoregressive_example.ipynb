{
 "cells": [
  {
   "cell_type": "markdown",
   "metadata": {},
   "source": [
    "# This is an example for an AR(p) simulator"
   ]
  },
  {
   "cell_type": "code",
   "execution_count": 2,
   "metadata": {},
   "outputs": [],
   "source": [
    "# Packages\n",
    "import numpy as np\n",
    "import matplotlib.pyplot as plt"
   ]
  },
  {
   "cell_type": "code",
   "execution_count": 128,
   "metadata": {},
   "outputs": [
    {
     "data": {
      "text/plain": [
       "array([9, 8, 7, 6, 5, 4, 3, 2, 1, 0])"
      ]
     },
     "execution_count": 128,
     "metadata": {},
     "output_type": "execute_result"
    }
   ],
   "source": [
    "data = np.array([0,1,2,3,4,5,6,7,8,9])      #       [0, 1, 2, 3, 4, 5, 6, 7, 8, 9]\n",
    "data[5]     # 5th position                          [5]\n",
    "data[3:6]   # From 3rd to 5th position              [3, 4, 5]\n",
    "data[:5]    # First 5                               [0, 1, 2, 3, 4]\n",
    "data[5:]    # Without the first 5 (From 6th one)    [5, 6, 7, 8, 9]\n",
    "data[-4]    # Fourth from behind                    [6]\n",
    "data[::2]   # Every Second                          [0, 2, 4, 6, 8]\n",
    "data[::-2]  # Every Second from behind              [9, 7, 5, 3, 1]\n",
    "data[::-1]  # Reverse Order                         [9, 8, 7, 6, 5, 4, 3, 2, 1, 0]\n",
    "np.dot([1,2,3], data[0:3][::-1])    #               Dot Product v^T * v"
   ]
  },
  {
   "cell_type": "code",
   "execution_count": null,
   "metadata": {},
   "outputs": [],
   "source": [
    "def generate_ar_process(n_samples, ar_params, noise_std=1.0, initial_values=None):\n",
    "\n",
    "    p = len(ar_params)\n",
    "\n",
    "    if initial_values is None:\n",
    "        initial_values = np.zeros(p)\n",
    "\n",
    "    # Initialize the time series with the initial values\n",
    "    data = np.zeros(n_samples)\n",
    "    # The first p values\n",
    "    data[:p] = initial_values\n",
    "\n",
    "    # Generate the AR(p) process\n",
    "    for t in range(p, n_samples):\n",
    "        noise = np.random.normal(0, noise_std)\n",
    "        data[t] = np.dot(ar_params, data[t-p:t][::-1]) + noise\n",
    "\n",
    "    return data\n"
   ]
  },
  {
   "cell_type": "code",
   "execution_count": null,
   "metadata": {},
   "outputs": [],
   "source": [
    "# Define AR(2) coefficients\n",
    "ar_coeffs = np.array([1, -0.33, -0.5])  # Note the negative signs\n",
    "ma_coeffs = np.array([1])  # No MA component\n",
    "\n",
    "# Create ARMA process\n",
    "ar_process = ArmaProcess(ar_coeffs, ma_coeffs)\n",
    "\n",
    "# Generate sample data\n",
    "n_samples = 1000\n",
    "simulated_data = ar_process.generate_sample(nsample=n_samples)\n",
    "\n",
    "# Plot the simulated time series\n",
    "plt.figure(figsize=(10, 5))\n",
    "plt.plot(simulated_data)\n",
    "plt.title(\"Simulated AR(2) Process\")\n",
    "plt.xlabel(\"Time\")\n",
    "plt.ylabel(\"Value\")\n",
    "plt.show()"
   ]
  }
 ],
 "metadata": {
  "kernelspec": {
   "display_name": "Python 3",
   "language": "python",
   "name": "python3"
  },
  "language_info": {
   "codemirror_mode": {
    "name": "ipython",
    "version": 3
   },
   "file_extension": ".py",
   "mimetype": "text/x-python",
   "name": "python",
   "nbconvert_exporter": "python",
   "pygments_lexer": "ipython3",
   "version": "3.9.6"
  }
 },
 "nbformat": 4,
 "nbformat_minor": 2
}
