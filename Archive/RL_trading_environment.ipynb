{
 "cells": [
  {
   "cell_type": "markdown",
   "metadata": {},
   "source": [
    "### Dataprep"
   ]
  },
  {
   "cell_type": "code",
   "execution_count": 21,
   "metadata": {},
   "outputs": [],
   "source": [
    "# Libraries\n",
    "import jax\n",
    "import jax.numpy as jnp\n",
    "import jax.random as random\n",
    "from flax import linen as nn\n",
    "import gymnax\n",
    "import optax\n",
    "from gymnax.environments import environment, spaces\n",
    "import matplotlib.pyplot as plt"
   ]
  },
  {
   "cell_type": "code",
   "execution_count": 18,
   "metadata": {},
   "outputs": [
    {
     "data": {
      "text/plain": [
       "Text(0.5, 1.0, 'Constant stock price')"
      ]
     },
     "execution_count": 18,
     "metadata": {},
     "output_type": "execute_result"
    },
    {
     "data": {
      "image/png": "[encoded data removed]",
      "text/plain": [
       "<Figure size 600x300 with 1 Axes>"
      ]
     },
     "metadata": {},
     "output_type": "display_data"
    }
   ],
   "source": [
    "# constant price\n",
    "data = jnp.array([jnp.arange(500), jnp.repeat(100,500)])\n",
    "plt.figure(figsize=(6,3))\n",
    "plt.plot(data[0],data[1])\n",
    "plt.xlabel(\"Days\")\n",
    "plt.ylabel(\"Price\")\n",
    "plt.title(\"Constant stock price\")"
   ]
  },
  {
   "cell_type": "code",
   "execution_count": 147,
   "metadata": {},
   "outputs": [],
   "source": [
    "class TradingSimulator:\n",
    "    \n",
    "    def __init__(self, trading_days, training):\n",
    "        self.trading_days = jnp.int32(trading_days)\n",
    "        \n",
    "        self.initial_state = {\n",
    "            'counter': jnp.int32(0),\n",
    "            'done': jnp.bool_(False),\n",
    "            'training': jnp.bool_(training),\n",
    "            'states': jnp.array([100.], dtype=jnp.float32),\n",
    "            'actions': jnp.array([0], dtype=jnp.int32),\n",
    "            'rewards': jnp.array([0.], dtype=jnp.float32)\n",
    "        }\n",
    "    \n",
    "    def take_step(self, simulator_state, action):\n",
    "        curr_action = action\n",
    "        last_action = simulator_state['actions'][-1]\n",
    "\n",
    "        # REWARD\n",
    "        reward = jnp.where(curr_action != last_action, 0.05, -0.05)\n",
    "        rewards = jnp.concatenate([simulator_state['rewards'], jnp.array([reward])])\n",
    "\n",
    "        # Update stock price based on action\n",
    "        last_state = simulator_state['states'][-1]\n",
    "        new_state = jnp.where(curr_action == 1, last_state + 5.0, last_state - 5.0)\n",
    "        states = jnp.concatenate([simulator_state['states'], jnp.array([new_state])])\n",
    "\n",
    "        # Update actions\n",
    "        actions = jnp.concatenate([simulator_state['actions'], jnp.array([curr_action])])\n",
    "\n",
    "        # Increment counter\n",
    "        counter = simulator_state['counter'] + 1\n",
    "        done = counter >= self.trading_days\n",
    "\n",
    "        # Update simulator state\n",
    "        simulator_state = {\n",
    "            'counter': counter,\n",
    "            'done': done,\n",
    "            'training': simulator_state['training'],\n",
    "            'states': states,\n",
    "            'actions': actions,\n",
    "            'rewards': rewards\n",
    "        }\n",
    "\n",
    "        info = {'reward': reward}\n",
    "\n",
    "        return simulator_state, reward, info\n",
    "    \n",
    "    def reset(self, training):\n",
    "        new_state = self.initial_state.copy()\n",
    "        new_state['training'] = jnp.bool_(training)\n",
    "        return new_state\n",
    "        \n",
    "    def result(self, simulator_state):\n",
    "        result = {\n",
    "            'states': simulator_state['states'],\n",
    "            'actions': simulator_state['actions'],\n",
    "            'rewards': simulator_state['rewards']\n",
    "        }\n",
    "        return result\n",
    "\n",
    "class TradingEnvironment(environment.Environment):\n",
    "    \n",
    "    def __init__(self, trading_days, training):\n",
    "        self.trading_days = jnp.int32(trading_days)\n",
    "        self.training = jnp.bool_(training)\n",
    "        self.num_features = 1\n",
    "\n",
    "        # Initialize the simulator\n",
    "        self.simulator = TradingSimulator(trading_days=self.trading_days, training=self.training)\n",
    "        \n",
    "        # Action Space (0,1)\n",
    "        self._action_space = spaces.Discrete(2)\n",
    "        \n",
    "        # Observation Space\n",
    "        self._observation_space = spaces.Box(\n",
    "            low=-jnp.inf, \n",
    "            high=jnp.inf, \n",
    "            shape=(self.num_features,), \n",
    "            dtype=jnp.float32\n",
    "        )\n",
    "    \n",
    "    def step(self, env_state, action):\n",
    "       # Perform a step using the simulator's state\n",
    "       env_state, reward, info = self.simulator.take_step(env_state, action)\n",
    "       # Extract observation (last price) from the env_state\n",
    "       observation = env_state['states'][-1]\n",
    "       return observation, reward, env_state, info\n",
    "    \n",
    "    def reset(self, training):\n",
    "        \n",
    "        # RNG_KEY will be not used in the beginning\n",
    "          \n",
    "        # Reset the simulator and return the initial state\n",
    "        env_state = self.simulator.reset(training)\n",
    "        # Extract the initial observation (last price) for the first step\n",
    "        observation = env_state['states'][-1]\n",
    "        return observation, env_state\n",
    "    \n",
    "    @property\n",
    "    def action_space(self):\n",
    "        return self._action_space\n",
    "\n",
    "    @property\n",
    "    def observation_space(self):\n",
    "        return self._observation_space\n",
    "        "
   ]
  },
  {
   "cell_type": "code",
   "execution_count": 43,
   "metadata": {},
   "outputs": [
    {
     "name": "stdout",
     "output_type": "stream",
     "text": [
      "[1. 2. 3. 4. 5.]\n"
     ]
    }
   ],
   "source": [
    "a = jnp.array([1,2,3,4.])\n",
    "\n",
    "a = jnp.concatenate([a,jnp.array([a[-1] + 1])])\n",
    "print(a)"
   ]
  },
  {
   "cell_type": "code",
   "execution_count": 18,
   "metadata": {},
   "outputs": [
    {
     "name": "stdout",
     "output_type": "stream",
     "text": [
      "[100.]\n",
      "95.0\n",
      "-0.05\n",
      "[100.  95.]\n",
      "90.0\n",
      "-0.05\n",
      "[100.  95.  90.]\n",
      "95.0\n",
      "0.05\n",
      "[100.  95.  90.  95.]\n"
     ]
    }
   ],
   "source": [
    "abc = TradingEnvironment(trading_days=252, training=False)\n",
    "simulator_state = abc.simulator.initial_state\n",
    "print(simulator_state['states'])\n",
    "observation, reward, simulator_state, info = abc.step(env_state=simulator_state, action=0)\n",
    "print(observation)\n",
    "print(reward)\n",
    "print(simulator_state['states'])\n",
    "observation, reward, simulator_state, info = abc.step(env_state=simulator_state, action=0)\n",
    "print(observation)\n",
    "print(reward)\n",
    "print(simulator_state['states'])\n",
    "observation, reward, simulator_state, info = abc.step(env_state=simulator_state, action=1)\n",
    "print(observation)\n",
    "print(reward)\n",
    "print(simulator_state['states'])"
   ]
  },
  {
   "cell_type": "code",
   "execution_count": 6,
   "metadata": {},
   "outputs": [
    {
     "name": "stdout",
     "output_type": "stream",
     "text": [
      "[100.]\n",
      "\n",
      "[100.  95.]\n",
      "-0.05\n",
      "False\n",
      "{'reward': -0.05}\n",
      "[ 0.   -0.05]\n",
      "\n",
      "[100.  95.  90.]\n",
      "-0.05\n",
      "False\n",
      "{'reward': -0.05}\n",
      "[ 0.   -0.05 -0.05]\n",
      "\n",
      "[100.  95.  90.  95.]\n",
      "0.05\n",
      "False\n",
      "{'reward': 0.05}\n",
      "[ 0.   -0.05 -0.05  0.05]\n",
      "[100.] False\n"
     ]
    }
   ],
   "source": [
    "\n",
    "print(abc.simulator.status()[0])\n",
    "print(\"\")\n",
    "observation, reward, done, info = abc.step(action=0)\n",
    "print(observation)\n",
    "print(reward)\n",
    "print(done)\n",
    "print(info)\n",
    "print(abc.simulator.rewards)\n",
    "print(\"\")\n",
    "observation, reward, done, info = abc.step(action=0)\n",
    "print(observation)\n",
    "print(reward)\n",
    "print(done)\n",
    "print(info)\n",
    "print(abc.simulator.rewards)\n",
    "print(\"\")\n",
    "observation, reward, done, info = abc.step(action=1)\n",
    "print(observation)\n",
    "print(reward)\n",
    "print(done)\n",
    "print(info)\n",
    "print(abc.simulator.rewards)\n",
    "\n",
    "rng_key = jax.random.PRNGKey(0)\n",
    "obs, done = abc.reset(rng_key, training=False)\n",
    "print(obs, done)\n",
    "\n"
   ]
  },
  {
   "cell_type": "markdown",
   "metadata": {},
   "source": [
    "## PPO implementation"
   ]
  },
  {
   "cell_type": "markdown",
   "metadata": {},
   "source": [
    "#### Policy/Value Network "
   ]
  },
  {
   "cell_type": "code",
   "execution_count": 148,
   "metadata": {},
   "outputs": [],
   "source": [
    "class PolicyNetwork(nn.Module):\n",
    "    \n",
    "    # Number of possible actions\n",
    "    n_actions: int  \n",
    "\n",
    "    @nn.compact\n",
    "    def __call__(self, x):\n",
    "        # A simple feedforward network\n",
    "        x = nn.Dense(64)(x)\n",
    "        x = nn.relu(x)\n",
    "        x = nn.Dense(64)(x)\n",
    "        x = nn.relu(x)\n",
    "        # Output logits for each action\n",
    "        logits = nn.Dense(self.n_actions)(x)  \n",
    "        # Raw logits are returned; softmax can be applied later\n",
    "        return logits\n",
    "    \n",
    "class ValueNetwork(nn.Module):\n",
    "    @nn.compact\n",
    "    def __call__(self, x):\n",
    "        x = nn.Dense(64)(x)\n",
    "        x = nn.relu(x)\n",
    "        x = nn.Dense(64)(x)\n",
    "        x = nn.relu(x)\n",
    "        value = nn.Dense(1)(x)\n",
    "        return value"
   ]
  },
  {
   "cell_type": "markdown",
   "metadata": {},
   "source": [
    "$J(s,a,\\theta_k,\\theta) = min(\\frac{\\pi_{\\theta}(a|s)}{\\pi_{\\theta_k}(a|s)}*A(s,a), clip(\\frac{\\pi_{\\theta}(a|s)}{\\pi_{\\theta_k}(a|s)}, 1 - \\epsilon, 1 + \\epsilon)*A(s,a))$"
   ]
  },
  {
   "cell_type": "code",
   "execution_count": 149,
   "metadata": {},
   "outputs": [],
   "source": [
    "def ppo_clipped_objective(logits, old_logits, actions, advantages, epsilon=0.2):\n",
    "    \n",
    "    \"\"\"Compute PPO clipped objective.\n",
    "    Args:\n",
    "        logits: Logits from the policy network (new policy).\n",
    "        old_logits: Logits from the old policy.\n",
    "        actions: Actions taken by the agent.\n",
    "        advantages: Advantage estimates.\n",
    "        epsilon: Clipping parameter.\n",
    "    Returns:\n",
    "        Clipped surrogate objective.\n",
    "    \"\"\"\n",
    "\n",
    "    # Get the probabilities from logits\n",
    "    probs = nn.softmax(logits)\n",
    "    old_probs = nn.softmax(old_logits)\n",
    "    \n",
    "    # Select the probabilities of the actions taken\n",
    "    probs_act = jnp.take_along_axis(probs, actions[:, None], axis=-1).squeeze()\n",
    "    old_probs_act = jnp.take_along_axis(old_probs, actions[:, None], axis=-1).squeeze()\n",
    "    \n",
    "    # Ratio of new to old policy\n",
    "    ratios = probs_act / old_probs_act\n",
    "    \n",
    "    # Clipped objective\n",
    "    clipped_ratios = jnp.clip(ratios, 1.0 - epsilon, 1.0 + epsilon)\n",
    "    loss = -jnp.mean(jnp.minimum(ratios * advantages, clipped_ratios * advantages))\n",
    "    \n",
    "    return loss"
   ]
  },
  {
   "cell_type": "code",
   "execution_count": 150,
   "metadata": {},
   "outputs": [],
   "source": [
    "def value_function_loss(predicted_values, target_values):\n",
    "    \"\"\"Compute value function loss (MSE).\n",
    "    Args:\n",
    "        predicted_values: Predicted value estimates from the value network.\n",
    "        target_values: Target values (returns).\n",
    "    Returns:\n",
    "        Mean squared error loss for the value function.\n",
    "    \"\"\"\n",
    "    return jnp.mean((predicted_values - target_values) ** 2)\n",
    "\n",
    "def entropy_bonus(logits):\n",
    "    \"\"\"Compute entropy bonus.\n",
    "    Args:\n",
    "        logits: Logits from the policy network.\n",
    "    Returns:\n",
    "        Entropy bonus term.\n",
    "    \"\"\"\n",
    "    probs = nn.softmax(logits)\n",
    "    entropy = -jnp.sum(probs * jnp.log(probs + 1e-10), axis=-1)\n",
    "    return jnp.mean(entropy)"
   ]
  },
  {
   "cell_type": "code",
   "execution_count": 151,
   "metadata": {},
   "outputs": [
    {
     "name": "stdout",
     "output_type": "stream",
     "text": [
      "Logits: [[ 0.02306527 -0.5690973 ]\n",
      " [ 0.02306527 -0.5690973 ]\n",
      " [ 0.02306527 -0.5690973 ]\n",
      " [ 0.02306527 -0.5690973 ]\n",
      " [ 0.02306527 -0.5690973 ]\n",
      " [ 0.02306527 -0.5690973 ]\n",
      " [ 0.02306527 -0.5690973 ]\n",
      " [ 0.02306527 -0.5690973 ]\n",
      " [ 0.02306527 -0.5690973 ]\n",
      " [ 0.02306527 -0.5690973 ]]\n",
      "Value: [[-0.64239705]\n",
      " [-0.64239705]\n",
      " [-0.64239705]\n",
      " [-0.64239705]\n",
      " [-0.64239705]\n",
      " [-0.64239705]\n",
      " [-0.64239705]\n",
      " [-0.64239705]\n",
      " [-0.64239705]\n",
      " [-0.64239705]]\n"
     ]
    }
   ],
   "source": [
    "# Initialize networks\n",
    "key = random.PRNGKey(0)\n",
    "policy_network = PolicyNetwork(n_actions=2)\n",
    "value_network = ValueNetwork()\n",
    "\n",
    "# Dummy input (representing a state)\n",
    "dummy_state = jnp.ones((10, 1))  # Assuming input dimension is 1\n",
    "\n",
    "# Initialize parameters\n",
    "policy_params = policy_network.init(key, dummy_state)\n",
    "value_params = value_network.init(key, dummy_state)\n",
    "\n",
    "# Forward pass to test\n",
    "logits = policy_network.apply(policy_params, dummy_state)\n",
    "value = value_network.apply(value_params, dummy_state)\n",
    "\n",
    "print(\"Logits:\", logits)\n",
    "print(\"Value:\", value)\n"
   ]
  },
  {
   "cell_type": "markdown",
   "metadata": {},
   "source": [
    "**GAE (Generalised Advantages Estimation):**\n",
    "\n",
    "$$\n",
    "A_t = \\sum_{i=0}^{\\infty} (\\gamma \\lambda)^i \\delta_{t+i}\n",
    "$$\n",
    "\n",
    "where:\n",
    "\n",
    "- $\\gamma$ is the discount factor.\n",
    "- $\\lambda$ parameter that controls the bias-variance trade-off.\n",
    "- $\\delta_t = r_t + \\gamma V(s_{t+1}) - V(s_t)$ is the TD error.\n"
   ]
  },
  {
   "cell_type": "code",
   "execution_count": 152,
   "metadata": {},
   "outputs": [],
   "source": [
    "def compute_gae(rewards, values, dones, gamma=0.99, lambda_=0.95):\n",
    "    \"\"\"Compute Generalized Advantage Estimation (GAE) and normalize the advantages.\n",
    "    Args:\n",
    "        rewards: Array of rewards from the environment.\n",
    "        values: Array of value estimates from the value network.\n",
    "        dones: Array indicating episode termination.\n",
    "        gamma: Discount factor.\n",
    "        lambda_: GAE parameter.\n",
    "    Returns:\n",
    "        Normalized advantages (A_t) and discounted returns (R_t).\n",
    "    \"\"\"\n",
    "    advantages = []\n",
    "    gae = 0\n",
    "    values = jnp.append(values, 0)  # Append 0 for the last value estimate (bootstrap)\n",
    "    \n",
    "    for t in reversed(range(len(rewards))):\n",
    "        delta = rewards[t] + gamma * values[t + 1] * (1 - dones[t]) - values[t]\n",
    "        gae = delta + gamma * lambda_ * gae * (1 - dones[t])\n",
    "        advantages.insert(0, gae)\n",
    "    \n",
    "    advantages = jnp.array(advantages)\n",
    "    returns = advantages + values[:-1]  # Calculate returns (R_t)\n",
    "    \n",
    "    # Normalize advantages\n",
    "    advantages = (advantages - jnp.mean(advantages)) / (jnp.std(advantages) + 1e-8)\n",
    "    \n",
    "    return advantages, returns"
   ]
  },
  {
   "cell_type": "code",
   "execution_count": 153,
   "metadata": {},
   "outputs": [
    {
     "name": "stdout",
     "output_type": "stream",
     "text": [
      "Normalized Advantages: [ 1.212037    0.02503157 -1.2370689 ]\n",
      "Returns: [2.8730676 1.96525   1.       ]\n"
     ]
    }
   ],
   "source": [
    "# Dummy rewards, values, and dones arrays for testing\n",
    "rewards = jnp.array([1.0, 1.0, 1.0])\n",
    "values = jnp.array([0.5, 0.5, 0.5])\n",
    "dones = jnp.array([0, 0, 1])\n",
    "\n",
    "# Compute normalized GAE and returns\n",
    "normalized_advantages, returns = compute_gae(rewards, values, dones)\n",
    "\n",
    "print(\"Normalized Advantages:\", normalized_advantages)\n",
    "print(\"Returns:\", returns)\n"
   ]
  },
  {
   "cell_type": "markdown",
   "metadata": {},
   "source": [
    "#### Trajectory Function"
   ]
  },
  {
   "cell_type": "code",
   "execution_count": 197,
   "metadata": {},
   "outputs": [],
   "source": [
    "def collect_trajectories(env, env_state, policy_params, value_params, key, num_steps, observation):\n",
    "    \"\"\"Collect trajectories by interacting with the environment.\n",
    "    \n",
    "    Args:\n",
    "        env: The environment instance.\n",
    "        env_state: The current state of the environment.\n",
    "        policy_params: Parameters of the policy network.\n",
    "        value_params: Parameters of the value network.\n",
    "        key: RNG key for sampling actions.\n",
    "        num_steps: Number of steps to collect.\n",
    "        observation: Initial observation from the environment.\n",
    "        \n",
    "    Returns:\n",
    "        A dictionary containing the collected trajectories.\n",
    "    \"\"\"\n",
    "    trajectories = {\n",
    "        'states': [],\n",
    "        'actions': [],\n",
    "        'rewards': [],\n",
    "        'values': [],\n",
    "        'dones': [],\n",
    "        'next_states': []\n",
    "    }\n",
    "\n",
    "    observation = jnp.array(observation).reshape(-1, 1) \n",
    "\n",
    "    for i in range(num_steps):\n",
    "        print(i)\n",
    "        # Sample action from the policy\n",
    "        logits = policy_network.apply(policy_params, observation)\n",
    "        action_probabilities = nn.softmax(logits)\n",
    "        key, subkey = random.split(key)\n",
    "        print(jnp.arange(2).shape)\n",
    "        print(action_probabilities)\n",
    "        print(action_probabilities[0])\n",
    "        print(action_probabilities[0][0])\n",
    "        print(action_probabilities.shape)\n",
    "        action = random.choice(subkey, a=jnp.arange(2), p=action_probabilities[0])\n",
    "        \n",
    "        # Get value estimate for the current state\n",
    "        value = value_network.apply(value_params, jnp.array([observation]))\n",
    "\n",
    "        # Step in the environment\n",
    "        next_observation, reward, env_state, _ = env.step(env_state, action)\n",
    "\n",
    "        # Store trajectory data\n",
    "        trajectories['states'].append(observation)\n",
    "        trajectories['actions'].append(action)\n",
    "        trajectories['rewards'].append(reward)\n",
    "        trajectories['values'].append(value)\n",
    "        trajectories['dones'].append(env_state['done'])\n",
    "        trajectories['next_states'].append(next_observation)\n",
    "\n",
    "        # Update observation\n",
    "        observation = next_observation\n",
    "\n",
    "        if env_state['done']:\n",
    "            break\n",
    "\n",
    "    # Convert lists to JAX arrays\n",
    "    trajectories = {k: jnp.array(v) for k, v in trajectories.items()}\n",
    "    \n",
    "    return trajectories, env_state, key\n",
    "\n",
    "\n",
    "def process_trajectories(trajectories):\n",
    "    \"\"\"Compute returns and advantages for the collected trajectories.\"\"\"\n",
    "    rewards = trajectories['rewards']\n",
    "    values = trajectories['values']\n",
    "    dones = trajectories['dones']\n",
    "    \n",
    "    # Compute GAE advantages and returns\n",
    "    advantages, returns = compute_gae(rewards, values, dones)\n",
    "    \n",
    "    # Add returns and advantages to trajectories\n",
    "    trajectories['advantages'] = advantages\n",
    "    trajectories['returns'] = returns\n",
    "    \n",
    "    return trajectories\n"
   ]
  },
  {
   "cell_type": "markdown",
   "metadata": {},
   "source": [
    "#### Update Policy and Value Networks"
   ]
  },
  {
   "cell_type": "code",
   "execution_count": 198,
   "metadata": {},
   "outputs": [],
   "source": [
    "def update_policy_and_value_networks(trajectories, policy_params, value_params, policy_opt_state, value_opt_state):\n",
    "    \"\"\"Update the policy and value networks using the collected trajectories.\"\"\"\n",
    "    \n",
    "    def loss_fn(policy_params, value_params):\n",
    "        logits = policy_network.apply(policy_params, trajectories['states'])\n",
    "        values = value_network.apply(value_params, trajectories['states']).squeeze()\n",
    "        \n",
    "        # Calculate losses\n",
    "        policy_loss = ppo_clipped_objective(logits, logits, trajectories['actions'], trajectories['advantages'])\n",
    "        value_loss = value_function_loss(values, trajectories['returns'])\n",
    "        entropy = entropy_bonus(logits)\n",
    "        \n",
    "        total_loss = policy_loss + 0.5 * value_loss - 0.01 * entropy\n",
    "        \n",
    "        return total_loss, (policy_loss, value_loss, entropy)\n",
    "    \n",
    "    # Compute gradients and update the parameters\n",
    "    (loss, (policy_loss, value_loss, entropy)), grads = jax.value_and_grad(loss_fn, argnums=(0, 1), has_aux=True)(policy_params, value_params)\n",
    "    # Update parameters\n",
    "    updates_policy, policy_opt_state = policy_optimizer.update(grads[0], policy_opt_state)\n",
    "    updates_value, value_opt_state = value_optimizer.update(grads[1], value_opt_state)\n",
    "    \n",
    "    policy_params = optax.apply_updates(policy_params, updates_policy)\n",
    "    value_params = optax.apply_updates(value_params, updates_value)\n",
    "    \n",
    "    return policy_params, value_params, policy_opt_state, value_opt_state, loss, policy_loss, value_loss, entropy"
   ]
  },
  {
   "cell_type": "markdown",
   "metadata": {},
   "source": [
    "#### Mini-Batch Updates"
   ]
  },
  {
   "cell_type": "code",
   "execution_count": 199,
   "metadata": {},
   "outputs": [],
   "source": [
    "def ppo_update(trajectories, policy_params, value_params, policy_opt_state, value_opt_state, key, num_epochs=10, batch_size=32):\n",
    "    \"\"\"Perform PPO updates using mini-batches.\"\"\"\n",
    "    num_samples = len(trajectories['states'])\n",
    "    indices = jnp.arange(num_samples)\n",
    "    \n",
    "    for epoch in range(num_epochs):\n",
    "        key, subkey = random.split(key)\n",
    "        permuted_indices = random.permutation(subkey, indices)\n",
    "        \n",
    "        for start in range(0, num_samples, batch_size):\n",
    "            end = start + batch_size\n",
    "            batch_indices = permuted_indices[start:end]\n",
    "            \n",
    "            batch = {k: v[batch_indices] for k, v in trajectories.items()}\n",
    "            \n",
    "            policy_params, value_params, policy_opt_state, value_opt_state, loss, policy_loss, value_loss, entropy = update_policy_and_value_networks(\n",
    "                batch, policy_params, value_params, policy_opt_state, value_opt_state\n",
    "            )\n",
    "    \n",
    "    return policy_params, value_params, policy_opt_state, value_opt_state"
   ]
  },
  {
   "cell_type": "markdown",
   "metadata": {},
   "source": [
    "#### Initialize Environment and Agent"
   ]
  },
  {
   "cell_type": "code",
   "execution_count": 200,
   "metadata": {},
   "outputs": [],
   "source": [
    "# Initialize environment and networks\n",
    "env = TradingEnvironment(trading_days=100, training=True)\n",
    "key = random.PRNGKey(0)\n",
    "\n",
    "# Initialize the networks\n",
    "policy_network = PolicyNetwork(n_actions=2)\n",
    "value_network = ValueNetwork()\n",
    "\n",
    "# Dummy input to initialize the network parameters\n",
    "dummy_state = jnp.ones((10, 1))  # Assuming input dimension is 1\n",
    "\n",
    "# Initialize parameters\n",
    "policy_params = policy_network.init(key, dummy_state)\n",
    "value_params = value_network.init(key, dummy_state)\n",
    "\n",
    "# Set up optimizer\n",
    "learning_rate = 3e-4\n",
    "policy_optimizer = optax.adam(learning_rate)\n",
    "value_optimizer = optax.adam(learning_rate)\n",
    "\n",
    "policy_opt_state = policy_optimizer.init(policy_params)\n",
    "value_opt_state = value_optimizer.init(value_params)\n",
    "\n",
    "# Reset the environment\n",
    "observation, env_state = env.reset(training=True)"
   ]
  },
  {
   "cell_type": "code",
   "execution_count": 196,
   "metadata": {},
   "outputs": [
    {
     "name": "stdout",
     "output_type": "stream",
     "text": [
      "(1, 2)\n",
      "[[1.0000000e+00 1.9173973e-26]]\n",
      "(2,)\n",
      "(1, 2)\n"
     ]
    },
    {
     "ename": "ValueError",
     "evalue": "p must be None or match the shape of a",
     "output_type": "error",
     "traceback": [
      "\u001b[0;31m---------------------------------------------------------------------------\u001b[0m",
      "\u001b[0;31mValueError\u001b[0m                                Traceback (most recent call last)",
      "Cell \u001b[0;32mIn[196], line 9\u001b[0m\n\u001b[1;32m      7\u001b[0m \u001b[38;5;28mprint\u001b[39m(jnp\u001b[38;5;241m.\u001b[39marange(\u001b[38;5;241m2\u001b[39m)\u001b[38;5;241m.\u001b[39mshape)\n\u001b[1;32m      8\u001b[0m \u001b[38;5;28mprint\u001b[39m(action_probabilities\u001b[38;5;241m.\u001b[39mshape)\n\u001b[0;32m----> 9\u001b[0m \u001b[43mrandom\u001b[49m\u001b[38;5;241;43m.\u001b[39;49m\u001b[43mchoice\u001b[49m\u001b[43m(\u001b[49m\u001b[43msubkey\u001b[49m\u001b[43m,\u001b[49m\u001b[43m \u001b[49m\u001b[43ma\u001b[49m\u001b[38;5;241;43m=\u001b[39;49m\u001b[43mjnp\u001b[49m\u001b[38;5;241;43m.\u001b[39;49m\u001b[43marange\u001b[49m\u001b[43m(\u001b[49m\u001b[38;5;241;43m2\u001b[39;49m\u001b[43m)\u001b[49m\u001b[43m,\u001b[49m\u001b[43m \u001b[49m\u001b[43mp\u001b[49m\u001b[38;5;241;43m=\u001b[39;49m\u001b[43maction_probabilities\u001b[49m\u001b[43m)\u001b[49m\n",
      "File \u001b[0;32m~/Library/Python/3.9/lib/python/site-packages/jax/_src/random.py:661\u001b[0m, in \u001b[0;36mchoice\u001b[0;34m(key, a, shape, replace, p, axis)\u001b[0m\n\u001b[1;32m    659\u001b[0m p_arr, \u001b[38;5;241m=\u001b[39m promote_dtypes_inexact(p)\n\u001b[1;32m    660\u001b[0m \u001b[38;5;28;01mif\u001b[39;00m p_arr\u001b[38;5;241m.\u001b[39mshape \u001b[38;5;241m!=\u001b[39m (n_inputs,):\n\u001b[0;32m--> 661\u001b[0m   \u001b[38;5;28;01mraise\u001b[39;00m \u001b[38;5;167;01mValueError\u001b[39;00m(\u001b[38;5;124m\"\u001b[39m\u001b[38;5;124mp must be None or match the shape of a\u001b[39m\u001b[38;5;124m\"\u001b[39m)\n\u001b[1;32m    662\u001b[0m \u001b[38;5;28;01mif\u001b[39;00m replace:\n\u001b[1;32m    663\u001b[0m   p_cuml \u001b[38;5;241m=\u001b[39m jnp\u001b[38;5;241m.\u001b[39mcumsum(p_arr)\n",
      "\u001b[0;31mValueError\u001b[0m: p must be None or match the shape of a"
     ]
    }
   ],
   "source": [
    "observation = jnp.array(observation).reshape(-1, 1)\n",
    "logits = policy_network.apply(policy_params, observation)\n",
    "print(logits.shape)\n",
    "action_probabilities = nn.softmax(logits)\n",
    "print(action_probabilities)\n",
    "key, subkey = random.split(key)\n",
    "print(jnp.arange(2).shape)\n",
    "print(action_probabilities.shape)\n",
    "random.choice(subkey, a=jnp.arange(2), p=action_probabilities)\n",
    "\n",
    "\n",
    " "
   ]
  },
  {
   "cell_type": "code",
   "execution_count": 201,
   "metadata": {},
   "outputs": [
    {
     "name": "stdout",
     "output_type": "stream",
     "text": [
      "0\n",
      "(2,)\n",
      "[[1.0000000e+00 1.9173973e-26]]\n",
      "[1.0000000e+00 1.9173973e-26]\n",
      "1.0\n",
      "(1, 2)\n",
      "1\n"
     ]
    },
    {
     "ename": "IndexError",
     "evalue": "tuple index out of range",
     "output_type": "error",
     "traceback": [
      "\u001b[0;31m---------------------------------------------------------------------------\u001b[0m",
      "\u001b[0;31mIndexError\u001b[0m                                Traceback (most recent call last)",
      "Cell \u001b[0;32mIn[201], line 5\u001b[0m\n\u001b[1;32m      2\u001b[0m num_updates \u001b[38;5;241m=\u001b[39m \u001b[38;5;241m1000\u001b[39m\n\u001b[1;32m      3\u001b[0m \u001b[38;5;28;01mfor\u001b[39;00m update \u001b[38;5;129;01min\u001b[39;00m \u001b[38;5;28mrange\u001b[39m(num_updates):\n\u001b[1;32m      4\u001b[0m     \u001b[38;5;66;03m# Collect trajectories\u001b[39;00m\n\u001b[0;32m----> 5\u001b[0m     trajectories, env_state, key \u001b[38;5;241m=\u001b[39m \u001b[43mcollect_trajectories\u001b[49m\u001b[43m(\u001b[49m\u001b[43menv\u001b[49m\u001b[43m,\u001b[49m\u001b[43m \u001b[49m\u001b[43menv_state\u001b[49m\u001b[43m,\u001b[49m\u001b[43m \u001b[49m\u001b[43mpolicy_params\u001b[49m\u001b[43m,\u001b[49m\u001b[43m \u001b[49m\u001b[43mvalue_params\u001b[49m\u001b[43m,\u001b[49m\u001b[43m \u001b[49m\u001b[43mkey\u001b[49m\u001b[43m,\u001b[49m\u001b[43m \u001b[49m\u001b[43mnum_steps\u001b[49m\u001b[38;5;241;43m=\u001b[39;49m\u001b[38;5;241;43m10\u001b[39;49m\u001b[43m,\u001b[49m\u001b[43m \u001b[49m\u001b[43mobservation\u001b[49m\u001b[38;5;241;43m=\u001b[39;49m\u001b[43mobservation\u001b[49m\u001b[43m)\u001b[49m\n\u001b[1;32m      6\u001b[0m     \u001b[38;5;28mprint\u001b[39m(trajectories[\u001b[38;5;124m'\u001b[39m\u001b[38;5;124mstates\u001b[39m\u001b[38;5;124m'\u001b[39m]\u001b[38;5;241m.\u001b[39mshape)\n\u001b[1;32m      7\u001b[0m     \u001b[38;5;28mprint\u001b[39m(trajectories[\u001b[38;5;124m'\u001b[39m\u001b[38;5;124mactions\u001b[39m\u001b[38;5;124m'\u001b[39m]\u001b[38;5;241m.\u001b[39mshape)\n",
      "Cell \u001b[0;32mIn[197], line 30\u001b[0m, in \u001b[0;36mcollect_trajectories\u001b[0;34m(env, env_state, policy_params, value_params, key, num_steps, observation)\u001b[0m\n\u001b[1;32m     28\u001b[0m \u001b[38;5;28mprint\u001b[39m(i)\n\u001b[1;32m     29\u001b[0m \u001b[38;5;66;03m# Sample action from the policy\u001b[39;00m\n\u001b[0;32m---> 30\u001b[0m logits \u001b[38;5;241m=\u001b[39m \u001b[43mpolicy_network\u001b[49m\u001b[38;5;241;43m.\u001b[39;49m\u001b[43mapply\u001b[49m\u001b[43m(\u001b[49m\u001b[43mpolicy_params\u001b[49m\u001b[43m,\u001b[49m\u001b[43m \u001b[49m\u001b[43mobservation\u001b[49m\u001b[43m)\u001b[49m\n\u001b[1;32m     31\u001b[0m action_probabilities \u001b[38;5;241m=\u001b[39m nn\u001b[38;5;241m.\u001b[39msoftmax(logits)\n\u001b[1;32m     32\u001b[0m key, subkey \u001b[38;5;241m=\u001b[39m random\u001b[38;5;241m.\u001b[39msplit(key)\n",
      "    \u001b[0;31m[... skipping hidden 6 frame]\u001b[0m\n",
      "Cell \u001b[0;32mIn[148], line 9\u001b[0m, in \u001b[0;36mPolicyNetwork.__call__\u001b[0;34m(self, x)\u001b[0m\n\u001b[1;32m      6\u001b[0m \u001b[38;5;129m@nn\u001b[39m\u001b[38;5;241m.\u001b[39mcompact\n\u001b[1;32m      7\u001b[0m \u001b[38;5;28;01mdef\u001b[39;00m \u001b[38;5;21m__call__\u001b[39m(\u001b[38;5;28mself\u001b[39m, x):\n\u001b[1;32m      8\u001b[0m     \u001b[38;5;66;03m# A simple feedforward network\u001b[39;00m\n\u001b[0;32m----> 9\u001b[0m     x \u001b[38;5;241m=\u001b[39m \u001b[43mnn\u001b[49m\u001b[38;5;241;43m.\u001b[39;49m\u001b[43mDense\u001b[49m\u001b[43m(\u001b[49m\u001b[38;5;241;43m64\u001b[39;49m\u001b[43m)\u001b[49m\u001b[43m(\u001b[49m\u001b[43mx\u001b[49m\u001b[43m)\u001b[49m\n\u001b[1;32m     10\u001b[0m     x \u001b[38;5;241m=\u001b[39m nn\u001b[38;5;241m.\u001b[39mrelu(x)\n\u001b[1;32m     11\u001b[0m     x \u001b[38;5;241m=\u001b[39m nn\u001b[38;5;241m.\u001b[39mDense(\u001b[38;5;241m64\u001b[39m)(x)\n",
      "    \u001b[0;31m[... skipping hidden 2 frame]\u001b[0m\n",
      "File \u001b[0;32m~/Library/Python/3.9/lib/python/site-packages/flax/linen/linear.py:259\u001b[0m, in \u001b[0;36mDense.__call__\u001b[0;34m(self, inputs)\u001b[0m\n\u001b[1;32m    246\u001b[0m \u001b[38;5;129m@compact\u001b[39m\n\u001b[1;32m    247\u001b[0m \u001b[38;5;28;01mdef\u001b[39;00m \u001b[38;5;21m__call__\u001b[39m(\u001b[38;5;28mself\u001b[39m, inputs: Array) \u001b[38;5;241m-\u001b[39m\u001b[38;5;241m>\u001b[39m Array:\n\u001b[1;32m    248\u001b[0m \u001b[38;5;250m  \u001b[39m\u001b[38;5;124;03m\"\"\"Applies a linear transformation to the inputs along the last dimension.\u001b[39;00m\n\u001b[1;32m    249\u001b[0m \n\u001b[1;32m    250\u001b[0m \u001b[38;5;124;03m  Args:\u001b[39;00m\n\u001b[0;32m   (...)\u001b[0m\n\u001b[1;32m    254\u001b[0m \u001b[38;5;124;03m    The transformed input.\u001b[39;00m\n\u001b[1;32m    255\u001b[0m \u001b[38;5;124;03m  \"\"\"\u001b[39;00m\n\u001b[1;32m    256\u001b[0m   kernel \u001b[38;5;241m=\u001b[39m \u001b[38;5;28mself\u001b[39m\u001b[38;5;241m.\u001b[39mparam(\n\u001b[1;32m    257\u001b[0m     \u001b[38;5;124m'\u001b[39m\u001b[38;5;124mkernel\u001b[39m\u001b[38;5;124m'\u001b[39m,\n\u001b[1;32m    258\u001b[0m     \u001b[38;5;28mself\u001b[39m\u001b[38;5;241m.\u001b[39mkernel_init,\n\u001b[0;32m--> 259\u001b[0m     (\u001b[43mjnp\u001b[49m\u001b[38;5;241;43m.\u001b[39;49m\u001b[43mshape\u001b[49m\u001b[43m(\u001b[49m\u001b[43minputs\u001b[49m\u001b[43m)\u001b[49m\u001b[43m[\u001b[49m\u001b[38;5;241;43m-\u001b[39;49m\u001b[38;5;241;43m1\u001b[39;49m\u001b[43m]\u001b[49m, \u001b[38;5;28mself\u001b[39m\u001b[38;5;241m.\u001b[39mfeatures),\n\u001b[1;32m    260\u001b[0m     \u001b[38;5;28mself\u001b[39m\u001b[38;5;241m.\u001b[39mparam_dtype,\n\u001b[1;32m    261\u001b[0m   )\n\u001b[1;32m    262\u001b[0m   \u001b[38;5;28;01mif\u001b[39;00m \u001b[38;5;28mself\u001b[39m\u001b[38;5;241m.\u001b[39muse_bias:\n\u001b[1;32m    263\u001b[0m     bias \u001b[38;5;241m=\u001b[39m \u001b[38;5;28mself\u001b[39m\u001b[38;5;241m.\u001b[39mparam(\n\u001b[1;32m    264\u001b[0m       \u001b[38;5;124m'\u001b[39m\u001b[38;5;124mbias\u001b[39m\u001b[38;5;124m'\u001b[39m, \u001b[38;5;28mself\u001b[39m\u001b[38;5;241m.\u001b[39mbias_init, (\u001b[38;5;28mself\u001b[39m\u001b[38;5;241m.\u001b[39mfeatures,), \u001b[38;5;28mself\u001b[39m\u001b[38;5;241m.\u001b[39mparam_dtype\n\u001b[1;32m    265\u001b[0m     )\n",
      "\u001b[0;31mIndexError\u001b[0m: tuple index out of range"
     ]
    }
   ],
   "source": [
    "# Main training loop\n",
    "num_updates = 1000\n",
    "for update in range(num_updates):\n",
    "    # Collect trajectories\n",
    "    trajectories, env_state, key = collect_trajectories(env, env_state, policy_params, value_params, key, num_steps=10, observation=observation)\n",
    "    print(trajectories['states'].shape)\n",
    "    print(trajectories['actions'].shape)\n",
    "    print(trajectories['rewards'].shape)\n",
    "    # Compute returns and advantages\n",
    "    trajectories = process_trajectories(trajectories)\n",
    "    \n",
    "    # Update networks using PPO\n",
    "    policy_params, value_params, policy_opt_state, value_opt_state, key = ppo_update(\n",
    "        trajectories, policy_params, value_params, policy_opt_state, value_opt_state, key\n",
    "    )\n",
    "    \n",
    "    if update % 100 == 0:\n",
    "        print(f\"Update {update}: Done\")\n"
   ]
  },
  {
   "cell_type": "code",
   "execution_count": null,
   "metadata": {},
   "outputs": [],
   "source": []
  }
 ],
 "metadata": {
  "kernelspec": {
   "display_name": "Python 3",
   "language": "python",
   "name": "python3"
  },
  "language_info": {
   "codemirror_mode": {
    "name": "ipython",
    "version": 3
   },
   "file_extension": ".py",
   "mimetype": "text/x-python",
   "name": "python",
   "nbconvert_exporter": "python",
   "pygments_lexer": "ipython3",
   "version": "3.9.6"
  }
 },
 "nbformat": 4,
 "nbformat_minor": 2
}
